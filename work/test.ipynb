{
 "cells": [
  {
   "cell_type": "code",
   "execution_count": 2,
   "source": [
    "print(\"hello world\")"
   ],
   "outputs": [
    {
     "output_type": "stream",
     "name": "stdout",
     "text": [
      "hello world\n"
     ]
    }
   ],
   "metadata": {}
  },
  {
   "cell_type": "code",
   "execution_count": 3,
   "source": [
    "## 使用するモジュールを import する。\n",
    "import time\n",
    "import threading\n",
    "from concurrent.futures import ThreadPoolExecutor"
   ],
   "outputs": [],
   "metadata": {}
  },
  {
   "cell_type": "code",
   "execution_count": 4,
   "source": [
    "## うどんとツユを作る関数。\n",
    "\n",
    "def boil_udon():\n",
    "  print('  うどんを茹でます。')\n",
    "  time.sleep(3)\n",
    "  print('  うどんが茹であがりました。')\n",
    "\n",
    "def make_tuyu():\n",
    "  print('  ツユをつくります。')\n",
    "  time.sleep(2)\n",
    "  print('  ツユができました。')"
   ],
   "outputs": [],
   "metadata": {}
  },
  {
   "cell_type": "code",
   "execution_count": 5,
   "source": [
    "## うどんとツユを作る逐次処理のサンプルコード。\n",
    "\n",
    "start = time.time() ## 処理開始時間\n",
    "##============計算処理==============\n",
    "print('うどんを作ります。')\n",
    "boil_udon()\n",
    "make_tuyu()\n",
    "print('盛り付けます。')\n",
    "print('うどんができました。')\n",
    "##=================================\n",
    "end = time.time()  ## 処理終了時間\n",
    "print(f\"実行時間: {end - start}\")"
   ],
   "outputs": [
    {
     "output_type": "stream",
     "name": "stdout",
     "text": [
      "うどんを作ります。\n",
      "  うどんを茹でます。\n",
      "  うどんが茹であがりました。\n",
      "  ツユをつくります。\n",
      "  ツユができました。\n",
      "盛り付けます。\n",
      "うどんができました。\n",
      "実行時間: 5.029797077178955\n"
     ]
    }
   ],
   "metadata": {}
  },
  {
   "cell_type": "code",
   "execution_count": 6,
   "source": [
    "## スレッドを使用して、うどんを茹でながらツユを作る並列処理のサンプルコード。\n",
    "\n",
    "start = time.time() ## 処理開始時間\n",
    "##============計算処理==============\n",
    "print('うどんを作ります。')\n",
    "thread1 = threading.Thread(target=boil_udon)\n",
    "thread2 = threading.Thread(target=make_tuyu)\n",
    "thread1.start()\n",
    "thread2.start()\n",
    "thread1.join()\n",
    "thread2.join()\n",
    "print('盛り付けます。')\n",
    "print('うどんができました。')\n",
    "##=================================\n",
    "end = time.time()  ## 処理終了時間\n",
    "print(f\"実行時間: {end - start}\")"
   ],
   "outputs": [
    {
     "output_type": "stream",
     "name": "stdout",
     "text": [
      "うどんを作ります。\n",
      "  うどんを茹でます。\n",
      "  ツユをつくります。\n",
      "  ツユができました。\n",
      "  うどんが茹であがりました。\n",
      "盛り付けます。\n",
      "うどんができました。\n",
      "実行時間: 3.0243494510650635\n"
     ]
    }
   ],
   "metadata": {}
  },
  {
   "cell_type": "code",
   "execution_count": 7,
   "source": [
    "## ThreadPoolExecutor で並列化を実装したサンプルコード\n",
    "tpe = ThreadPoolExecutor(max_workers=3)\n",
    "\n",
    "start = time.time() ## 処理開始時間\n",
    "##============計算処理==============\n",
    "print('うどんを20個茹でます。')\n",
    "for _ in range(20):\n",
    "    tpe.submit(boil_udon)\n",
    "\n",
    "tpe.shutdown()\n",
    "print('うどんが20個茹で上がりました。')\n",
    "##=================================\n",
    "end = time.time()  ## 処理終了時間\n",
    "print(f\"実行時間: {end - start}\")"
   ],
   "outputs": [
    {
     "output_type": "stream",
     "name": "stdout",
     "text": [
      "うどんを20個茹でます。\n",
      "  うどんを茹でます。\n",
      "  うどんを茹でます。\n",
      "  うどんを茹でます。\n",
      "  うどんが茹であがりました。\n",
      "  うどんを茹でます。\n",
      "  うどんが茹であがりました。\n",
      "  うどんを茹でます。\n",
      "  うどんが茹であがりました。\n",
      "  うどんを茹でます。\n",
      "  うどんが茹であがりました。\n",
      "  うどんを茹でます。\n",
      "  うどんが茹であがりました。\n",
      "  うどんを茹でます。\n",
      "  うどんが茹であがりました。\n",
      "  うどんを茹でます。\n",
      "  うどんが茹であがりました。\n",
      "  うどんを茹でます。\n",
      "  うどんが茹であがりました。\n",
      "  うどんを茹でます。\n",
      "  うどんが茹であがりました。\n",
      "  うどんを茹でます。\n",
      "  うどんが茹であがりました。  うどんが茹であがりました。\n",
      "  うどんを茹でます。\n",
      "\n",
      "  うどんを茹でます。\n",
      "  うどんが茹であがりました。\n",
      "  うどんを茹でます。\n",
      "  うどんが茹であがりました。\n",
      "  うどんを茹でます。\n",
      "  うどんが茹であがりました。\n",
      "  うどんを茹でます。\n",
      "  うどんが茹であがりました。\n",
      "  うどんを茹でます。\n",
      "  うどんが茹であがりました。\n",
      "  うどんを茹でます。\n",
      "  うどんが茹であがりました。\n",
      "  うどんを茹でます。\n",
      "  うどんが茹であがりました。\n",
      "  うどんが茹であがりました。\n",
      "  うどんが茹であがりました。\n",
      "うどんが20個茹で上がりました。\n",
      "実行時間: 21.035120725631714\n"
     ]
    }
   ],
   "metadata": {}
  },
  {
   "cell_type": "code",
   "execution_count": 8,
   "source": [
    "## Future で ThreadPoolExecutor の戻り値を取得する並列処理のサンプルコード\n",
    "def make_udon(kind):\n",
    "    print('  %sうどんを作ります。' % kind)\n",
    "    time.sleep(3)\n",
    "    return kind + 'うどん'\n",
    "\n",
    "kinds = ['たぬき', 'かけ', 'ざる', 'きつね', '天ぷら', '肉']\n",
    "executor = ThreadPoolExecutor(max_workers=3)\n",
    "futures = []\n",
    "\n",
    "start = time.time() ## 処理開始時間\n",
    "##============計算処理==============\n",
    "for kind in kinds:\n",
    "    print('%sうどん オーダー入りました。' % kind)\n",
    "    future = executor.submit(make_udon, kind)\n",
    "    futures.append(future)\n",
    "\n",
    "for future in futures:\n",
    "    print('%sお待たせしました。' % future.result())\n",
    "\n",
    "executor.shutdown()\n",
    "##=================================\n",
    "end = time.time()  ## 処理終了時間\n",
    "print(f\"実行時間: {end - start}\")"
   ],
   "outputs": [
    {
     "output_type": "stream",
     "name": "stdout",
     "text": [
      "たぬきうどん オーダー入りました。\n",
      "  たぬきうどんを作ります。かけうどん オーダー入りました。\n",
      "\n",
      "  かけうどんを作ります。ざるうどん オーダー入りました。\n",
      "\n",
      "  ざるうどんを作ります。きつねうどん オーダー入りました。\n",
      "天ぷらうどん オーダー入りました。\n",
      "肉うどん オーダー入りました。\n",
      "\n",
      "  きつねうどんを作ります。\n",
      "  天ぷらうどんを作ります。\n",
      "たぬきうどんお待たせしました。\n",
      "かけうどんお待たせしました。\n",
      "  肉うどんを作ります。\n",
      "ざるうどんお待たせしました。\n",
      "きつねうどんお待たせしました。\n",
      "天ぷらうどんお待たせしました。\n",
      "肉うどんお待たせしました。\n",
      "実行時間: 6.0373759269714355\n"
     ]
    }
   ],
   "metadata": {}
  }
 ],
 "metadata": {
  "orig_nbformat": 4,
  "language_info": {
   "name": "python",
   "version": "3.9.5",
   "mimetype": "text/x-python",
   "codemirror_mode": {
    "name": "ipython",
    "version": 3
   },
   "pygments_lexer": "ipython3",
   "nbconvert_exporter": "python",
   "file_extension": ".py"
  },
  "kernelspec": {
   "name": "python3",
   "display_name": "Python 3.9.5 64-bit ('base': conda)"
  },
  "interpreter": {
   "hash": "98b0a9b7b4eaaa670588a142fd0a9b87eaafe866f1db4228be72b4211d12040f"
  }
 },
 "nbformat": 4,
 "nbformat_minor": 2
}