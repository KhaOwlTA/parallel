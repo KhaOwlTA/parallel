{
 "cells": [
  {
   "cell_type": "code",
   "execution_count": 1,
   "source": [
    "print(\"hello world\")"
   ],
   "outputs": [
    {
     "output_type": "stream",
     "name": "stdout",
     "text": [
      "hello world\n"
     ]
    }
   ],
   "metadata": {}
  },
  {
   "cell_type": "code",
   "execution_count": null,
   "source": [
    "import time\n",
    "\n",
    "def boil_udon():\n",
    "  print('  うどんを茹でます。')\n",
    "  time.sleep(3)\n",
    "  print('  うどんが茹であがりました。')\n",
    "\n",
    "def make_tuyu():\n",
    "  print('  ツユをつくります。')\n",
    "  time.sleep(2)\n",
    "  print('  ツユができました。')\n",
    "\n",
    "print('うどんを作ります。')\n",
    "boil_udon()\n",
    "make_tuyu()\n",
    "print('盛り付けます。')\n",
    "print('うどんができました。')"
   ],
   "outputs": [],
   "metadata": {}
  },
  {
   "cell_type": "code",
   "execution_count": null,
   "source": [
    "import time\n",
    "import threading\n",
    "\n",
    "def boil_udon():\n",
    "  print('  うどんを茹でます。')\n",
    "  time.sleep(3)\n",
    "  print('  うどんが茹であがりました。')\n",
    "\n",
    "def make_tuyu():\n",
    "  print('  ツユをつくります。')\n",
    "  time.sleep(2)\n",
    "  print('  ツユができました。')\n",
    "\n",
    "print('うどんを作ります。')\n",
    "thread1 = threading.Thread(target=boil_udon)\n",
    "thread2 = threading.Thread(target=make_tuyu)\n",
    "thread1.start()\n",
    "thread2.start()\n",
    "thread1.join()\n",
    "thread2.join()\n",
    "print('盛り付けます。')\n",
    "print('うどんができました。')"
   ],
   "outputs": [],
   "metadata": {}
  },
  {
   "cell_type": "code",
   "execution_count": null,
   "source": [
    "from concurrent.futures import ThreadPoolExecutor\n",
    "import time\n",
    "\n",
    "def boil_udon():\n",
    "  print('  うどんを茹でます。')\n",
    "  time.sleep(3)\n",
    "  print('  うどんが茹であがりました。')\n",
    "\n",
    "tpe = ThreadPoolExecutor(max_workers=3)\n",
    "\n",
    "print('うどんを100個茹でます。')\n",
    "for _ in range(100):\n",
    "    tpe.submit(boil_udon)\n",
    "\n",
    "tpe.shutdown()\n",
    "print('うどんが100個茹で上がりました。')"
   ],
   "outputs": [],
   "metadata": {}
  },
  {
   "cell_type": "code",
   "execution_count": null,
   "source": [
    "from concurrent.futures import ThreadPoolExecutor\n",
    "import time\n",
    "\n",
    "def boil_udon():\n",
    "  print('  うどんを茹でます。')\n",
    "  time.sleep(3)\n",
    "  print('  うどんが茹であがりました。')\n",
    "\n",
    "tpe = ThreadPoolExecutor(max_workers=3)\n",
    "\n",
    "print('うどんを100個茹でます。')\n",
    "for _ in range(100):\n",
    "    tpe.submit(boil_udon)\n",
    "\n",
    "tpe.shutdown()\n",
    "print('うどんが100個茹で上がりました。')"
   ],
   "outputs": [],
   "metadata": {}
  }
 ],
 "metadata": {
  "orig_nbformat": 4,
  "language_info": {
   "name": "python",
   "version": "3.9.5",
   "mimetype": "text/x-python",
   "codemirror_mode": {
    "name": "ipython",
    "version": 3
   },
   "pygments_lexer": "ipython3",
   "nbconvert_exporter": "python",
   "file_extension": ".py"
  },
  "kernelspec": {
   "name": "python3",
   "display_name": "Python 3.9.5 64-bit ('base': conda)"
  },
  "interpreter": {
   "hash": "98b0a9b7b4eaaa670588a142fd0a9b87eaafe866f1db4228be72b4211d12040f"
  }
 },
 "nbformat": 4,
 "nbformat_minor": 2
}